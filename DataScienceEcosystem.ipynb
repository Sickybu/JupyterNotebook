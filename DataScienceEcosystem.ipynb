{
 "cells": [
  {
   "cell_type": "markdown",
   "id": "cf6eab31-09e1-4f32-a1e8-9170cd77810d",
   "metadata": {},
   "source": [
    "# Data Science Tools and Ecosystem"
   ]
  },
  {
   "cell_type": "markdown",
   "id": "a242a5fc-1f0d-4525-a46e-c7c82fa1e4a7",
   "metadata": {},
   "source": [
    "## Autor: David Sicardo "
   ]
  },
  {
   "cell_type": "markdown",
   "id": "913f13c2-0c4d-43a8-b054-b48a52d1bc29",
   "metadata": {},
   "source": [
    "In this notebook, Data Science Tools and Ecosystem are summarized."
   ]
  },
  {
   "cell_type": "markdown",
   "id": "dd32a48c-f86a-49e1-b0b0-71da0050bd24",
   "metadata": {},
   "source": [
    "Objectives:\n",
    "- Create a code cell to convert minutes to hours\n",
    "- Create a markdown cell with a table of Data Science tools\n",
    "- Create a markdown cell to list data science languages"
   ]
  },
  {
   "cell_type": "markdown",
   "id": "81030474-4634-4367-b5b8-98188245b169",
   "metadata": {},
   "source": [
    "Some of the popular languages that Data Scientists use are:\n",
    "1. Python\n",
    "2. R\n",
    "3. Julya"
   ]
  },
  {
   "cell_type": "markdown",
   "id": "65dcedd9-6b97-4e49-a945-7ed9bd80f773",
   "metadata": {},
   "source": [
    "Some of the commonly used libraries used by Data Scientists include:\n",
    "1. Pandas\n",
    "2. PyTorch\n",
    "3. TensorFlow\n"
   ]
  },
  {
   "cell_type": "markdown",
   "id": "fa59f2b9-c2e8-484f-808a-e9bcbd86c6fe",
   "metadata": {},
   "source": [
    "|Data Science Tools |\n",
    "| ------ |\n",
    "| Cassandra |\n",
    "|MongoDB |\n",
    "| CouchDB |\n",
    "| MySQL |"
   ]
  },
  {
   "cell_type": "markdown",
   "id": "6d963173-3279-4737-8724-d718b724213f",
   "metadata": {},
   "source": [
    "### Below are a few examples of evaluating arithmetic expressions in Python"
   ]
  },
  {
   "cell_type": "code",
   "execution_count": 39,
   "id": "4f309c1b-b897-4423-97cc-98a3c1ccd24e",
   "metadata": {},
   "outputs": [
    {
     "data": {
      "text/plain": [
       "17"
      ]
     },
     "execution_count": 39,
     "metadata": {},
     "output_type": "execute_result"
    }
   ],
   "source": [
    "#This a simple arithmetic expression to mutiply then add integers\n",
    "(3*4)+5"
   ]
  },
  {
   "cell_type": "code",
   "execution_count": 41,
   "id": "e8167ae9-0f93-4c26-8094-cae0ee6e225a",
   "metadata": {},
   "outputs": [
    {
     "name": "stdout",
     "output_type": "stream",
     "text": [
      "3.3333333333333335 hours\n"
     ]
    }
   ],
   "source": [
    "#This will convert 200 minutes to hours by diving by 60\n",
    "result = 200/60\n",
    "print(result, \"hours\")"
   ]
  },
  {
   "cell_type": "code",
   "execution_count": null,
   "id": "f4b9315e-0fd5-4910-8fbd-a24c3b96effd",
   "metadata": {},
   "outputs": [],
   "source": []
  }
 ],
 "metadata": {
  "kernelspec": {
   "display_name": "Python 3 (ipykernel)",
   "language": "python",
   "name": "python3"
  },
  "language_info": {
   "codemirror_mode": {
    "name": "ipython",
    "version": 3
   },
   "file_extension": ".py",
   "mimetype": "text/x-python",
   "name": "python",
   "nbconvert_exporter": "python",
   "pygments_lexer": "ipython3",
   "version": "3.12.4"
  }
 },
 "nbformat": 4,
 "nbformat_minor": 5
}
